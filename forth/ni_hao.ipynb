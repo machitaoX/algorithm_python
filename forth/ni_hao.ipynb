{
 "cells": [
  {
   "cell_type": "code",
   "execution_count": null,
   "metadata": {
    "collapsed": true
   },
   "outputs": [],
   "source": [
    "from typing import List\n",
    "\n",
    "\n",
    "class Solution:\n",
    "\n",
    "    def find_words(self, words: List[str]) -> List[str]:\n",
    "        res = []\n",
    "        dict_map = {}\n",
    "        line_one = 'qwertyuiop'\n",
    "        for one in line_one:\n",
    "            dict_map[one] = 1\n",
    "\n",
    "        line_two = 'asdfghjkl'\n",
    "        for two in line_two:\n",
    "            dict_map[two] = 2\n",
    "\n",
    "        line_three = 'zxcvbnm'\n",
    "        for three in line_three:\n",
    "            dict_map[three] = 3\n",
    "\n",
    "        for word in words:\n",
    "            word_letter_array = list(word.lower())\n",
    "            first = dict_map[word_letter_array[0]]\n",
    "            count = 0\n",
    "            for word_letter in word_letter_array:\n",
    "                if dict_map[word_letter] != first:\n",
    "                    count = count + 1\n",
    "                    break\n",
    "            if count == 0:\n",
    "                res.append(word)\n",
    "        return res\n"
   ]
  },
  {
   "cell_type": "code",
   "execution_count": null,
   "outputs": [],
   "source": [
    "if __name__ == '__main__':\n",
    "    s = Solution()\n",
    "    print(s.find_words(['a', 'b']))"
   ],
   "metadata": {
    "collapsed": false
   }
  },
  {
   "cell_type": "code",
   "execution_count": null,
   "outputs": [],
   "source": [],
   "metadata": {
    "collapsed": false
   }
  }
 ],
 "metadata": {
  "kernelspec": {
   "display_name": "Python 3",
   "language": "python",
   "name": "python3"
  },
  "language_info": {
   "codemirror_mode": {
    "name": "ipython",
    "version": 2
   },
   "file_extension": ".py",
   "mimetype": "text/x-python",
   "name": "python",
   "nbconvert_exporter": "python",
   "pygments_lexer": "ipython2",
   "version": "2.7.6"
  }
 },
 "nbformat": 4,
 "nbformat_minor": 0
}
